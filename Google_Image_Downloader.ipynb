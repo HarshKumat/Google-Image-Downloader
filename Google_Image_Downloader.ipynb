{
  "nbformat": 4,
  "nbformat_minor": 0,
  "metadata": {
    "colab": {
      "provenance": [],
      "include_colab_link": true
    },
    "kernelspec": {
      "name": "python3",
      "display_name": "Python 3"
    },
    "language_info": {
      "name": "python"
    }
  },
  "cells": [
    {
      "cell_type": "markdown",
      "metadata": {
        "id": "view-in-github",
        "colab_type": "text"
      },
      "source": [
        "<a href=\"https://colab.research.google.com/github/HarshKumat/Google-Image-Downloader/blob/main/Google_Image_Downloader.ipynb\" target=\"_parent\"><img src=\"https://colab.research.google.com/assets/colab-badge.svg\" alt=\"Open In Colab\"/></a>"
      ]
    },
    {
      "cell_type": "code",
      "execution_count": null,
      "metadata": {
        "colab": {
          "base_uri": "https://localhost:8080/"
        },
        "collapsed": true,
        "id": "kk0ba0lj_wcF",
        "outputId": "94de81be-845c-4277-f63b-8c7a6ea5342b"
      },
      "outputs": [
        {
          "output_type": "stream",
          "name": "stdout",
          "text": [
            "Collecting icrawler\n",
            "  Downloading icrawler-0.6.9-py3-none-any.whl (34 kB)\n",
            "Requirement already satisfied: beautifulsoup4 in /usr/local/lib/python3.10/dist-packages (from icrawler) (4.12.3)\n",
            "Collecting bs4 (from icrawler)\n",
            "  Downloading bs4-0.0.2-py2.py3-none-any.whl (1.2 kB)\n",
            "Requirement already satisfied: lxml in /usr/local/lib/python3.10/dist-packages (from icrawler) (4.9.4)\n",
            "Requirement already satisfied: pillow in /usr/local/lib/python3.10/dist-packages (from icrawler) (9.4.0)\n",
            "Requirement already satisfied: pyyaml in /usr/local/lib/python3.10/dist-packages (from icrawler) (6.0.1)\n",
            "Requirement already satisfied: requests in /usr/local/lib/python3.10/dist-packages (from icrawler) (2.31.0)\n",
            "Requirement already satisfied: six in /usr/local/lib/python3.10/dist-packages (from icrawler) (1.16.0)\n",
            "Requirement already satisfied: soupsieve>1.2 in /usr/local/lib/python3.10/dist-packages (from beautifulsoup4->icrawler) (2.5)\n",
            "Requirement already satisfied: charset-normalizer<4,>=2 in /usr/local/lib/python3.10/dist-packages (from requests->icrawler) (3.3.2)\n",
            "Requirement already satisfied: idna<4,>=2.5 in /usr/local/lib/python3.10/dist-packages (from requests->icrawler) (3.7)\n",
            "Requirement already satisfied: urllib3<3,>=1.21.1 in /usr/local/lib/python3.10/dist-packages (from requests->icrawler) (2.0.7)\n",
            "Requirement already satisfied: certifi>=2017.4.17 in /usr/local/lib/python3.10/dist-packages (from requests->icrawler) (2024.7.4)\n",
            "Installing collected packages: bs4, icrawler\n",
            "Successfully installed bs4-0.0.2 icrawler-0.6.9\n"
          ]
        }
      ],
      "source": [
        "!pip install icrawler"
      ]
    },
    {
      "cell_type": "code",
      "source": [
        "from icrawler.builtin import GoogleImageCrawler\n",
        "google_crawler=GoogleImageCrawler(storage={'root_dir':r'Virat Kohli images'})\n",
        "google_crawler.crawl(keyword='Virat Kohli',max_num=10)\n"
      ],
      "metadata": {
        "id": "Ikf5Ymw3AM9w",
        "outputId": "c21efa62-668f-4bbc-c720-360c080a9a0b",
        "colab": {
          "base_uri": "https://localhost:8080/"
        }
      },
      "execution_count": null,
      "outputs": [
        {
          "output_type": "stream",
          "name": "stderr",
          "text": [
            "ERROR:downloader:Response status code 404, file https://upload.wikimedia.org/wikipedia/commons/thumb/4/44/Virat_Kohli_with_AudiQ7.png\n"
          ]
        }
      ]
    },
    {
      "cell_type": "code",
      "source": [
        "from icrawler.builtin import GoogleImageCrawler\n",
        "\n",
        "def download_images_with_filters(keyword, max_num, filters):\n",
        "    google_crawler = GoogleImageCrawler(storage={'root_dir': f'./images/{keyword}'})\n",
        "    google_crawler.crawl(keyword=keyword, max_num=max_num, filters=filters)\n",
        "\n",
        "# Example usage with filters\n",
        "filters = {\n",
        "    'size': 'large',\n",
        "    'color': 'blackandwhite',\n",
        "    'type': 'photo'\n",
        "}\n",
        "\n",
        "download_images_with_filters('Virat Kohli', 10, filters)"
      ],
      "metadata": {
        "collapsed": true,
        "id": "_WJA6GQvG-dX",
        "outputId": "9cad77cb-d6f2-46c0-ac34-09bb2610d3e0",
        "colab": {
          "base_uri": "https://localhost:8080/"
        }
      },
      "execution_count": null,
      "outputs": [
        {
          "output_type": "stream",
          "name": "stderr",
          "text": [
            "ERROR:downloader:Response status code 403, file https://scontent.cdninstagram.com/v/t51.29350-15/450440565_385409447891227_6681610655430742902_n.heic?stp=dst-jpg\n",
            "ERROR:downloader:Response status code 403, file https://www.creativefabrica.com/wp-content/uploads/2023/08/30/Virat-Kohli-Worships-God-Graphic-78103368-1.png\n",
            "ERROR:downloader:Response status code 401, file https://images-wixmp-ed30a86b8c4ca887773594c2.wixmp.com/f/7ec33ee0-9a10-4b54-83d7-580ea6f63f2a/ddzws0n-8f22c2ce-60ae-47fa-bdfa-cd3956773410.jpg\n"
          ]
        }
      ]
    }
  ]
}